{
 "cells": [
  {
   "cell_type": "code",
   "execution_count": null,
   "id": "d089e61d-3318-4466-8e1b-508f7c3b809e",
   "metadata": {},
   "outputs": [
    {
     "name": "stdout",
     "output_type": "stream",
     "text": [
      " * Serving Flask app 'fancoolserver'\n",
      " * Debug mode: on\n"
     ]
    },
    {
     "name": "stderr",
     "output_type": "stream",
     "text": [
      "WARNING: This is a development server. Do not use it in a production deployment. Use a production WSGI server instead.\n",
      " * Running on all addresses (0.0.0.0)\n",
      " * Running on http://127.0.0.1:5001\n",
      " * Running on http://192.168.50.51:5001\n",
      "Press CTRL+C to quit\n",
      "127.0.0.1 - - [04/Oct/2025 19:24:53] \"POST /api/log_query HTTP/1.1\" 200 -\n",
      "[2025-10-04 19:24:53,392] INFO in fancoolserver: [like_status] uid=b3837f08-f90f-405c-92de-9bc36e5ef97c ip=127.0.0.1 raw=1 dedup=1 liked=1 sample=['1_1'] time=2ms\n",
      "127.0.0.1 - - [04/Oct/2025 19:24:53] \"POST /api/like_status HTTP/1.1\" 200 -\n",
      "127.0.0.1 - - [04/Oct/2025 19:24:53] \"POST /api/curves HTTP/1.1\" 200 -\n",
      "127.0.0.1 - - [04/Oct/2025 19:24:57] \"POST /api/log_query HTTP/1.1\" 200 -\n",
      "[2025-10-04 19:24:57,054] INFO in fancoolserver: [like_status] uid=b3837f08-f90f-405c-92de-9bc36e5ef97c ip=127.0.0.1 raw=1 dedup=1 liked=1 sample=['2_2'] time=2ms\n",
      "127.0.0.1 - - [04/Oct/2025 19:24:57] \"POST /api/like_status HTTP/1.1\" 200 -\n",
      "127.0.0.1 - - [04/Oct/2025 19:24:57] \"POST /api/curves HTTP/1.1\" 200 -\n",
      "127.0.0.1 - - [04/Oct/2025 19:25:24] \"POST /api/log_query HTTP/1.1\" 200 -\n",
      "127.0.0.1 - - [04/Oct/2025 19:25:24] \"POST /api/curves HTTP/1.1\" 200 -\n",
      "127.0.0.1 - - [04/Oct/2025 19:25:25] \"POST /api/log_query HTTP/1.1\" 200 -\n",
      "[2025-10-04 19:25:25,872] INFO in fancoolserver: [like_status] uid=b3837f08-f90f-405c-92de-9bc36e5ef97c ip=127.0.0.1 raw=1 dedup=1 liked=1 sample=['5_2'] time=2ms\n",
      "127.0.0.1 - - [04/Oct/2025 19:25:25] \"POST /api/like_status HTTP/1.1\" 200 -\n",
      "127.0.0.1 - - [04/Oct/2025 19:25:25] \"POST /api/curves HTTP/1.1\" 200 -\n",
      "127.0.0.1 - - [04/Oct/2025 19:25:29] \"POST /api/log_query HTTP/1.1\" 200 -\n",
      "[2025-10-04 19:25:29,995] INFO in fancoolserver: [like_status] uid=b3837f08-f90f-405c-92de-9bc36e5ef97c ip=127.0.0.1 raw=1 dedup=1 liked=1 sample=['4_1'] time=3ms\n",
      "127.0.0.1 - - [04/Oct/2025 19:25:29] \"POST /api/like_status HTTP/1.1\" 200 -\n",
      "127.0.0.1 - - [04/Oct/2025 19:25:29] \"POST /api/curves HTTP/1.1\" 200 -\n",
      "127.0.0.1 - - [04/Oct/2025 19:25:31] \"POST /api/log_query HTTP/1.1\" 200 -\n",
      "127.0.0.1 - - [04/Oct/2025 19:25:31] \"POST /api/curves HTTP/1.1\" 200 -\n",
      "127.0.0.1 - - [04/Oct/2025 19:25:32] \"POST /api/log_query HTTP/1.1\" 200 -\n",
      "[2025-10-04 19:25:32,758] INFO in fancoolserver: [like_status] uid=b3837f08-f90f-405c-92de-9bc36e5ef97c ip=127.0.0.1 raw=1 dedup=1 liked=1 sample=['7_2'] time=1ms\n",
      "127.0.0.1 - - [04/Oct/2025 19:25:32] \"POST /api/like_status HTTP/1.1\" 200 -\n",
      "127.0.0.1 - - [04/Oct/2025 19:25:32] \"POST /api/curves HTTP/1.1\" 200 -\n",
      "64.62.156.10 - - [04/Oct/2025 20:09:01] code 400, message Bad HTTP/0.9 request type ('\\x16\\x03\\x01\\x00{\\x01\\x00\\x00w\\x03\\x03@dÒôiñ1ÕXz\\x13©a©\\x8bwZb5¦tàI1\\x92\\x84?Ù!!\\\\Ç\\x00\\x00\\x1aÀ/À+À\\x11À\\x07À\\x13À')\n",
      "64.62.156.10 - - [04/Oct/2025 20:09:01] \"\\x16\\x03\\x01\\x00{\\x01\\x00\\x00w\\x03\\x03@dÒôiñ1ÕXz\\x13©a©\\x8bwZb5¦tàI1\\x92\\x84?Ù!!\\\\Ç\\x00\\x00\\x1aÀ/À+À\\x11À\\x07À\\x13À\\x09À\\x14À\" 400 -\n",
      "91.231.89.215 - - [04/Oct/2025 20:34:28] code 400, message Bad request version ('À#À¬À®À+À')\n",
      "91.231.89.215 - - [04/Oct/2025 20:34:28] \"\\x16\\x03\\x03\\x01§\\x01\\x00\\x01£\\x03\\x03\\x0d#ð­\\x948Î\\x10\\x17ÈÑ+\\x9fôè#\\x0d¨³\\x12ÿð\\x83¶+1Ìð½\\x1b°¦ ÿ\\x94¬\\x1dI#úù5²ÐÓ-ùóâÚ\\x07\\x8a)l\\x9aï.÷\\x91÷'è\\x13\\x11+\\x00\\x8a\\x00\\x16\\x003\\x00gÀ\\x9eÀ¢\\x00\\x9e\\x009\\x00kÀ\\x9fÀ£\\x00\\x9f\\x00E\\x00¾\\x00\\x88\\x00Ä\\x00\\x9aÀ\\x08À\\x09À#À¬À®À+À\" 400 -\n",
      "91.231.89.213 - - [04/Oct/2025 20:34:32] \"GET / HTTP/1.1\" 200 -\n"
     ]
    }
   ],
   "source": [
    "%run fancoolserver.py"
   ]
  },
  {
   "cell_type": "code",
   "execution_count": null,
   "id": "963c526e-aa78-4bb6-a52f-b6f4fa799f87",
   "metadata": {},
   "outputs": [],
   "source": []
  }
 ],
 "metadata": {
  "kernelspec": {
   "display_name": "Python [conda env:base] *",
   "language": "python",
   "name": "conda-base-py"
  },
  "language_info": {
   "codemirror_mode": {
    "name": "ipython",
    "version": 3
   },
   "file_extension": ".py",
   "mimetype": "text/x-python",
   "name": "python",
   "nbconvert_exporter": "python",
   "pygments_lexer": "ipython3",
   "version": "3.12.7"
  }
 },
 "nbformat": 4,
 "nbformat_minor": 5
}
