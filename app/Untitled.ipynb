{
 "cells": [
  {
   "cell_type": "code",
   "execution_count": null,
   "id": "d089e61d-3318-4466-8e1b-508f7c3b809e",
   "metadata": {},
   "outputs": [
    {
     "name": "stdout",
     "output_type": "stream",
     "text": [
      " * Serving Flask app 'fancoolserver'\n",
      " * Debug mode: on\n"
     ]
    },
    {
     "name": "stderr",
     "output_type": "stream",
     "text": [
      "WARNING: This is a development server. Do not use it in a production deployment. Use a production WSGI server instead.\n",
      " * Running on all addresses (0.0.0.0)\n",
      " * Running on http://127.0.0.1:5001\n",
      " * Running on http://192.168.50.51:5001\n",
      "Press CTRL+C to quit\n",
      "127.0.0.1 - - [04/Oct/2025 22:51:28] \"GET / HTTP/1.1\" 200 -\n",
      "127.0.0.1 - - [04/Oct/2025 22:51:28] \"GET /static/css/fancool.css HTTP/1.1\" 304 -\n",
      "127.0.0.1 - - [04/Oct/2025 22:51:28] \"GET /static/js/local-state.js HTTP/1.1\" 304 -\n",
      "127.0.0.1 - - [04/Oct/2025 22:51:28] \"GET /static/js/fancool.js HTTP/1.1\" 304 -\n",
      "127.0.0.1 - - [04/Oct/2025 22:51:28] \"GET /static/echarts-render.html HTTP/1.1\" 304 -\n",
      "127.0.0.1 - - [04/Oct/2025 22:51:28] \"GET /api/config HTTP/1.1\" 200 -\n",
      "127.0.0.1 - - [04/Oct/2025 22:51:28] \"POST /api/like_status HTTP/1.1\" 200 -\n",
      "127.0.0.1 - - [04/Oct/2025 22:51:28] \"GET /api/query_count HTTP/1.1\" 200 -\n",
      "127.0.0.1 - - [04/Oct/2025 22:51:28] \"POST /api/curves HTTP/1.1\" 200 -\n",
      "127.0.0.1 - - [04/Oct/2025 22:51:30] \"GET /api/top_ratings HTTP/1.1\" 200 -\n",
      "127.0.0.1 - - [04/Oct/2025 22:51:35] \"POST /api/log_query HTTP/1.1\" 200 -\n",
      "127.0.0.1 - - [04/Oct/2025 22:51:35] \"POST /api/curves HTTP/1.1\" 200 -\n",
      "127.0.0.1 - - [04/Oct/2025 22:51:35] \"POST /api/log_query HTTP/1.1\" 200 -\n",
      "127.0.0.1 - - [04/Oct/2025 22:51:35] \"POST /api/curves HTTP/1.1\" 200 -\n",
      "127.0.0.1 - - [04/Oct/2025 22:51:36] \"GET /api/recent_likes HTTP/1.1\" 200 -\n",
      "127.0.0.1 - - [04/Oct/2025 22:51:38] \"POST /api/like HTTP/1.1\" 200 -\n",
      "127.0.0.1 - - [04/Oct/2025 22:51:38] \"GET /api/recent_likes HTTP/1.1\" 200 -\n",
      "127.0.0.1 - - [04/Oct/2025 22:51:45] \"POST /api/log_query HTTP/1.1\" 200 -\n",
      "127.0.0.1 - - [04/Oct/2025 22:51:45] \"POST /api/curves HTTP/1.1\" 200 -\n",
      "127.0.0.1 - - [04/Oct/2025 22:51:46] \"POST /api/log_query HTTP/1.1\" 200 -\n",
      "127.0.0.1 - - [04/Oct/2025 22:51:46] \"POST /api/curves HTTP/1.1\" 200 -\n",
      "127.0.0.1 - - [04/Oct/2025 22:51:47] \"POST /api/log_query HTTP/1.1\" 200 -\n",
      "127.0.0.1 - - [04/Oct/2025 22:51:47] \"POST /api/curves HTTP/1.1\" 200 -\n",
      "127.0.0.1 - - [04/Oct/2025 22:51:50] \"GET /get_resistance_locations_by_type/多孔板(40%25穿孔率) HTTP/1.1\" 200 -\n",
      "127.0.0.1 - - [04/Oct/2025 22:51:52] \"POST /api/search_fans HTTP/1.1\" 200 -\n",
      "127.0.0.1 - - [04/Oct/2025 22:51:54] \"POST /api/curves HTTP/1.1\" 200 -\n",
      "127.0.0.1 - - [04/Oct/2025 22:51:54] \"POST /api/curves HTTP/1.1\" 200 -\n",
      "127.0.0.1 - - [04/Oct/2025 22:51:54] \"POST /api/curves HTTP/1.1\" 200 -\n",
      "127.0.0.1 - - [04/Oct/2025 22:51:59] \"GET /search_models/model HTTP/1.1\" 200 -\n",
      "127.0.0.1 - - [04/Oct/2025 22:52:00] \"GET /get_models/品牌1 HTTP/1.1\" 200 -\n",
      "127.0.0.1 - - [04/Oct/2025 22:52:00] \"GET /get_resistance_types/品牌1/model2 HTTP/1.1\" 200 -\n",
      "127.0.0.1 - - [04/Oct/2025 22:52:03] \"POST /api/search_fans HTTP/1.1\" 200 -\n",
      "127.0.0.1 - - [04/Oct/2025 22:52:03] \"POST /api/log_query HTTP/1.1\" 200 -\n",
      "127.0.0.1 - - [04/Oct/2025 22:52:03] \"POST /api/curves HTTP/1.1\" 200 -\n",
      "127.0.0.1 - - [04/Oct/2025 22:54:41] \"GET / HTTP/1.1\" 200 -\n",
      "127.0.0.1 - - [04/Oct/2025 22:54:41] \"GET /static/css/fancool.css HTTP/1.1\" 304 -\n",
      "127.0.0.1 - - [04/Oct/2025 22:54:41] \"GET /static/js/local-state.js HTTP/1.1\" 304 -\n",
      "127.0.0.1 - - [04/Oct/2025 22:54:41] \"GET /static/js/fancool.js HTTP/1.1\" 304 -\n",
      "127.0.0.1 - - [04/Oct/2025 22:54:41] \"GET /static/echarts-render.html HTTP/1.1\" 304 -\n",
      "127.0.0.1 - - [04/Oct/2025 22:54:41] \"GET /api/config HTTP/1.1\" 200 -\n",
      "127.0.0.1 - - [04/Oct/2025 22:54:41] \"POST /api/curves HTTP/1.1\" 200 -\n",
      "127.0.0.1 - - [04/Oct/2025 22:54:41] \"POST /api/like_status HTTP/1.1\" 200 -\n",
      "127.0.0.1 - - [04/Oct/2025 22:54:41] \"GET /api/query_count HTTP/1.1\" 200 -\n",
      "127.0.0.1 - - [04/Oct/2025 22:54:44] \"GET /api/top_ratings HTTP/1.1\" 200 -\n",
      "127.0.0.1 - - [04/Oct/2025 23:00:41] \"POST /api/like_status HTTP/1.1\" 200 -\n",
      "127.0.0.1 - - [04/Oct/2025 23:06:41] \"POST /api/like_status HTTP/1.1\" 200 -\n"
     ]
    }
   ],
   "source": [
    "%run fancoolserver.py"
   ]
  },
  {
   "cell_type": "code",
   "execution_count": null,
   "id": "963c526e-aa78-4bb6-a52f-b6f4fa799f87",
   "metadata": {},
   "outputs": [],
   "source": []
  }
 ],
 "metadata": {
  "kernelspec": {
   "display_name": "Python [conda env:base] *",
   "language": "python",
   "name": "conda-base-py"
  },
  "language_info": {
   "codemirror_mode": {
    "name": "ipython",
    "version": 3
   },
   "file_extension": ".py",
   "mimetype": "text/x-python",
   "name": "python",
   "nbconvert_exporter": "python",
   "pygments_lexer": "ipython3",
   "version": "3.12.7"
  }
 },
 "nbformat": 4,
 "nbformat_minor": 5
}
