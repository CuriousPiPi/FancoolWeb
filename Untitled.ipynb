{
 "cells": [
  {
   "cell_type": "code",
   "execution_count": null,
   "id": "f80197e2-fc7c-4ae1-b0f8-7f22b861a0c8",
   "metadata": {},
   "outputs": [
    {
     "name": "stderr",
     "output_type": "stream",
     "text": [
      "[2025-10-31 20:59:11,174] INFO in adminserver: Registered routes:\n",
      "POST       /admin/api/calib/bind-model  -> calib_admin.api_bind_model_to_perf\n",
      "GET        /admin/api/calib/bindings  -> calib_admin.api_admin_calib_bindings_by_mid_cid\n",
      "GET        /admin/api/calib/cache/inspect  -> calib_admin.api_calib_cache_inspect\n",
      "GET        /admin/api/calib/preview  -> calib_admin.api_calib_preview\n",
      "GET        /admin/api/calib/preview/debug  -> calib_admin.api_calib_preview_debug\n",
      "GET        /admin/api/calib/rpm-noise  -> calib_admin.api_admin_calib_rpm_noise\n",
      "POST       /admin/api/calib/upload_zip  -> calib_admin.api_calib_upload_zip\n",
      "GET        /admin/api/data/batch/models  -> data_mgmt.api_batch_models\n",
      "POST       /admin/api/data/batch/search  -> data_mgmt.api_batch_search\n",
      "POST       /admin/api/data/batch/status  -> data_mgmt.api_batch_status\n",
      "POST       /admin/api/data/batch/update-state  -> data_mgmt.api_batch_update_state\n",
      "POST       /admin/api/data/brand/add  -> data_mgmt.api_add_brand\n",
      "GET        /admin/api/data/brand/all  -> data_mgmt.api_brand_all\n",
      "GET        /admin/api/data/brand/detail  -> data_mgmt.api_brand_detail\n",
      "GET        /admin/api/data/brand/search  -> data_mgmt.api_search_brand\n",
      "POST       /admin/api/data/brand/update  -> data_mgmt.api_brand_update\n",
      "POST       /admin/api/data/condition/add  -> data_mgmt.api_add_condition\n",
      "GET        /admin/api/data/condition/comb-exist  -> data_mgmt.api_condition_comb_exist\n",
      "GET        /admin/api/data/condition/detail  -> data_mgmt.api_condition_detail\n",
      "GET        /admin/api/data/condition/name-exist  -> data_mgmt.api_condition_name_exist\n",
      "POST       /admin/api/data/condition/type-update  -> data_mgmt.api_condition_type_update\n",
      "GET        /admin/api/data/condition/types  -> data_mgmt.api_condition_types\n",
      "POST       /admin/api/data/condition/update  -> data_mgmt.api_condition_update\n",
      "GET        /admin/api/data/conditions/all  -> data_mgmt.api_conditions_all\n",
      "POST       /admin/api/data/model/add  -> data_mgmt.api_add_model\n",
      "GET        /admin/api/data/model/by-brand  -> data_mgmt.api_models_by_brand\n",
      "GET        /admin/api/data/model/detail  -> data_mgmt.api_model_detail\n",
      "GET        /admin/api/data/model/exist  -> data_mgmt.api_model_exist\n",
      "POST       /admin/api/data/model/update  -> data_mgmt.api_model_update\n",
      "POST       /admin/api/data/perf/add  -> data_mgmt.api_perf_add\n",
      "GET        /admin/api/data/perf/check  -> data_mgmt.api_perf_check\n",
      "POST       /admin/api/data/perf/group-edit  -> data_mgmt.api_perf_group_edit\n",
      "GET        /admin/api/data/perf/group-rows  -> data_mgmt.api_perf_group_rows\n",
      "GET        /admin/api/data/perf/groups  -> data_mgmt.api_perf_groups\n",
      "GET        /admin/data  -> data_mgmt.page_data_mgmt\n",
      "GET        /admin/logout  -> data_mgmt.admin_logout\n",
      "GET        /static/<path:filename>  -> static\n"
     ]
    },
    {
     "name": "stdout",
     "output_type": "stream",
     "text": [
      " * Serving Flask app 'adminserver'\n",
      " * Debug mode: on\n"
     ]
    },
    {
     "name": "stderr",
     "output_type": "stream",
     "text": [
      "WARNING: This is a development server. Do not use it in a production deployment. Use a production WSGI server instead.\n",
      " * Running on all addresses (0.0.0.0)\n",
      " * Running on http://127.0.0.1:6001\n",
      " * Running on http://192.168.50.51:6001\n",
      "Press CTRL+C to quit\n",
      "127.0.0.1 - - [31/Oct/2025 20:59:22] \"GET /admin/data HTTP/1.1\" 200 -\n",
      "127.0.0.1 - - [31/Oct/2025 20:59:22] \"GET /static/js/data_management.js?v=4 HTTP/1.1\" 304 -\n",
      "127.0.0.1 - - [31/Oct/2025 20:59:22] \"GET /admin/api/data/brand/all HTTP/1.1\" 200 -\n",
      "127.0.0.1 - - [31/Oct/2025 20:59:22] \"GET /favicon.ico HTTP/1.1\" 404 -\n",
      "127.0.0.1 - - [31/Oct/2025 20:59:23] \"GET /admin/api/data/model/by-brand?brand_id=10 HTTP/1.1\" 200 -\n",
      "127.0.0.1 - - [31/Oct/2025 20:59:23] \"GET /admin/api/data/conditions/all HTTP/1.1\" 200 -\n",
      "127.0.0.1 - - [31/Oct/2025 20:59:23] \"GET /admin/api/data/perf/check?model_id=16&condition_id=4 HTTP/1.1\" 200 -\n",
      "127.0.0.1 - - [31/Oct/2025 20:59:24] \"GET /admin/api/calib/bindings?model_id=16&condition_id=4 HTTP/1.1\" 200 -\n",
      "127.0.0.1 - - [31/Oct/2025 20:59:29] \"POST /admin/api/calib/upload_zip HTTP/1.1\" 200 -\n",
      "127.0.0.1 - - [31/Oct/2025 20:59:29] \"GET /static/js/calib_preview.js HTTP/1.1\" 304 -\n",
      "127.0.0.1 - - [31/Oct/2025 20:59:33] \"GET /admin/api/calib/preview?batch_id=0c8c4cca-ffe7-42c5-875c-9446a68ea95d HTTP/1.1\" 200 -\n",
      "127.0.0.1 - - [31/Oct/2025 20:59:38] \"POST /admin/api/data/perf/add HTTP/1.1\" 200 -\n",
      "127.0.0.1 - - [31/Oct/2025 20:59:38] \"POST /admin/api/calib/bind-model HTTP/1.1\" 200 -\n"
     ]
    }
   ],
   "source": [
    "%run ./admin/adminserver.py"
   ]
  },
  {
   "cell_type": "code",
   "execution_count": null,
   "id": "8c62d91a-b140-40a6-95df-cedfc37d64e7",
   "metadata": {},
   "outputs": [],
   "source": []
  }
 ],
 "metadata": {
  "kernelspec": {
   "display_name": "Python [conda env:base] *",
   "language": "python",
   "name": "conda-base-py"
  },
  "language_info": {
   "codemirror_mode": {
    "name": "ipython",
    "version": 3
   },
   "file_extension": ".py",
   "mimetype": "text/x-python",
   "name": "python",
   "nbconvert_exporter": "python",
   "pygments_lexer": "ipython3",
   "version": "3.12.7"
  }
 },
 "nbformat": 4,
 "nbformat_minor": 5
}
