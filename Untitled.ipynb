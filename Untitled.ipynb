{
 "cells": [
  {
   "cell_type": "code",
   "execution_count": null,
   "id": "f80197e2-fc7c-4ae1-b0f8-7f22b861a0c8",
   "metadata": {},
   "outputs": [],
   "source": [
    "%run ./admin/adminserver.py"
   ]
  },
  {
   "cell_type": "code",
   "execution_count": null,
   "id": "8c62d91a-b140-40a6-95df-cedfc37d64e7",
   "metadata": {},
   "outputs": [],
   "source": []
  }
 ],
 "metadata": {
  "kernelspec": {
   "display_name": "Python [conda env:base] *",
   "language": "python",
   "name": "conda-base-py"
  },
  "language_info": {
   "codemirror_mode": {
    "name": "ipython",
    "version": 3
   },
   "file_extension": ".py",
   "mimetype": "text/x-python",
   "name": "python",
   "nbconvert_exporter": "python",
   "pygments_lexer": "ipython3",
   "version": "3.12.7"
  }
 },
 "nbformat": 4,
 "nbformat_minor": 5
}
